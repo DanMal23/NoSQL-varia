{
 "cells": [
  {
   "cell_type": "code",
   "execution_count": 1,
   "metadata": {},
   "outputs": [],
   "source": [
    "import avro\n",
    "from avro.datafile import DataFileReader, DataFileWriter\n",
    "from avro.io import DatumReader, DatumWriter"
   ]
  },
  {
   "cell_type": "code",
   "execution_count": 7,
   "metadata": {},
   "outputs": [
    {
     "data": {
      "text/plain": [
       "<avro.schema.RecordSchema at 0x7f35303a8160>"
      ]
     },
     "execution_count": 7,
     "metadata": {},
     "output_type": "execute_result"
    }
   ],
   "source": [
    "schema = avro.schema.Parse(open('avro_prod.avsc','r').read())\n",
    "schema"
   ]
  },
  {
   "cell_type": "code",
   "execution_count": 14,
   "metadata": {},
   "outputs": [],
   "source": [
    "writer = DataFileWriter(open(\"avro_prod_wr.avro\", \"wb\"), DatumWriter(), schema)\n",
    "\n",
    "writer.append({\"type\" : \"VMWARE\", \"purpose\": \"EDUCATION\", \"firstname\": \"Jon\", \"lastname\": \"A\", \n",
    "                \"email\": \"ja@xyz.com\", \"company\": \"None\", \"job\" : \"student\", \"phone\": 10101010})\n",
    "# job title is optional:\n",
    "writer.append({\"type\" : \"DOCKER\", \"purpose\": \"OTHER\", \"firstname\": \"Don\", \"lastname\": \"M\", \n",
    "                \"email\": \"dm@xyz.com\", \"company\": \"xyz\", \"phone\": 12345678})\n",
    "writer.close()"
   ]
  },
  {
   "cell_type": "code",
   "execution_count": 15,
   "metadata": {},
   "outputs": [
    {
     "name": "stdout",
     "output_type": "stream",
     "text": [
      "{'type': 'VMWARE', 'purpose': 'EDUCATION', 'firstname': 'Jon', 'lastname': 'A', 'email': 'ja@xyz.com', 'company': 'None', 'job': 'student', 'phone': 10101010}\n",
      "{'type': 'DOCKER', 'purpose': 'OTHER', 'firstname': 'Don', 'lastname': 'M', 'email': 'dm@xyz.com', 'company': 'xyz', 'job': None, 'phone': 12345678}\n"
     ]
    }
   ],
   "source": [
    "reader = DataFileReader(open(\"avro_prod_wb.avro\", \"rb\"), DatumReader()) \n",
    "for r in reader:\n",
    "    print(r)\n",
    "reader.close()"
   ]
  },
  {
   "cell_type": "code",
   "execution_count": null,
   "metadata": {},
   "outputs": [],
   "source": []
  }
 ],
 "metadata": {
  "kernelspec": {
   "display_name": "Python 3",
   "language": "python",
   "name": "python3"
  },
  "language_info": {
   "codemirror_mode": {
    "name": "ipython",
    "version": 3
   },
   "file_extension": ".py",
   "mimetype": "text/x-python",
   "name": "python",
   "nbconvert_exporter": "python",
   "pygments_lexer": "ipython3",
   "version": "3.8.2"
  }
 },
 "nbformat": 4,
 "nbformat_minor": 2
}
